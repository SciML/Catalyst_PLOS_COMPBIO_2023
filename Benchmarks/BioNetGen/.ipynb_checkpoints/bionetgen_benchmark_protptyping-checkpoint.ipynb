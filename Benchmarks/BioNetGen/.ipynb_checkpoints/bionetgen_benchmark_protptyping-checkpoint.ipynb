{
 "cells": [
  {
   "cell_type": "markdown",
   "metadata": {},
   "source": [
    "# Preparations"
   ]
  },
  {
   "cell_type": "code",
   "execution_count": null,
   "metadata": {},
   "outputs": [],
   "source": [
    "# Fetch packages.\n",
    "import bionetgen\n",
    "import json\n",
    "import matplotlib.pyplot as plt\n",
    "import statistics\n",
    "import timeit\n",
    "import numpy"
   ]
  },
  {
   "cell_type": "code",
   "execution_count": null,
   "metadata": {},
   "outputs": [],
   "source": [
    "# Benchmarking functions.\n",
    "def make_benchmark(model,n):\n",
    "    def benchmark_func():\n",
    "        bionetgen.run(model, suppress=True)\n",
    "    return timeit.Timer(benchmark_func).repeat(repeat=n, number=1)\n",
    "\n",
    "# Serialises a benchmarking output using JSON.\n",
    "def serialize(benchmarks,lengs,filename):\n",
    "    with open('../Benchmarking_results/Prototyping/%s.json'%(filename) , \"w\") as write:\n",
    "        json.dump({\"benchmarks\": benchmarks, \"medians\": list(1000*numpy.array(list(map(statistics.median, benchmarks)))), \"lengs\": lengs.tolist()} , write)"
   ]
  },
  {
   "cell_type": "code",
   "execution_count": null,
   "metadata": {},
   "outputs": [],
   "source": [
    "# Function for plotting simulation output.\n",
    "def plot_result(result):\n",
    "    r = result[0]\n",
    "\n",
    "    for name in r.dtype.names:\n",
    "        if name != \"time\":\n",
    "            plt.plot(r['time'], r[name], label = name)\n",
    "    plt.xlabel(\"time\")\n",
    "    plt.ylabel(\"species (counts)\")\n",
    "    _ = plt.legend(frameon = False)\n",
    "    return plt\n",
    "\n",
    "# Function for plotting benchmarking output.\n",
    "def plot_benchmark(benchmarks,lengs):\n",
    "    medians = list(1000*numpy.array(list(map(statistics.median, benchmarks))))\n",
    "    plt.plot(lengs,medians,linewidth=4)\n",
    "    plt.xscale(\"log\")\n",
    "    plt.yscale(\"log\")\n",
    "    plt.xlim([lengs[0],lengs[-1]])\n",
    "    plt.ylim([0.001,1.2*numpy.max(medians)])    # Choice of ymin does skew how plot appears."
   ]
  },
  {
   "cell_type": "code",
   "execution_count": null,
   "metadata": {},
   "outputs": [],
   "source": [
    "# Benchmarking parameters\n",
    "n = 10"
   ]
  },
  {
   "cell_type": "markdown",
   "metadata": {},
   "source": [
    "# Benchamarks"
   ]
  },
  {
   "cell_type": "markdown",
   "metadata": {
    "tags": []
   },
   "source": [
    "### Multistate"
   ]
  },
  {
   "cell_type": "code",
   "execution_count": null,
   "metadata": {},
   "outputs": [],
   "source": [
    "# Load model.\n",
    "model_multistate = bionetgen.bngmodel('../Data/multistate.bngl')\n",
    "model_multistate_no_obs = bionetgen.bngmodel('../Data/multistate_no_obs.bngl')"
   ]
  },
  {
   "cell_type": "code",
   "execution_count": null,
   "metadata": {},
   "outputs": [],
   "source": [
    "# Check ODE simulation output.\n",
    "model_multistate.actions[0].args['atol'] = 1e-12\n",
    "model_multistate.actions[0].args['rtol'] = 1e-6\n",
    "%time result_multistate_ODE = bionetgen.run(model_multistate, suppress=True);\n",
    "fig1 = plot_result(result_multistate_ODE)\n",
    "plt.savefig('../Plots/BioNetGen/multistate_ode_short.png')\n",
    "plt.savefig('../Plots/BioNetGen/multistate_ode_short.pdf')"
   ]
  },
  {
   "cell_type": "code",
   "execution_count": null,
   "metadata": {},
   "outputs": [],
   "source": [
    "# Check ODE simulation output for maximum length simulation.\n",
    "model_multistate.actions[0].args['t_end'] = 100000.0   \n",
    "model_multistate.actions[0].args['n_steps'] = 100000\n",
    "%time result_multistate_ODE_long = bionetgen.run(model_multistate, suppress=True);\n",
    "plot_result(result_multistate_ODE_long)\n",
    "plt.savefig('../Plots/BioNetGen/multistate_ode_long.png')\n",
    "plt.savefig('../Plots/BioNetGen/multistate_ode_long.pdf')"
   ]
  },
  {
   "cell_type": "code",
   "execution_count": null,
   "metadata": {},
   "outputs": [],
   "source": [
    "# Check ODE simulation time.\n",
    "model_multistate_no_obs.actions[0].args['t_end'] = 10.0   \n",
    "model_multistate_no_obs.actions[0].args['n_steps'] = int(10.0)\n",
    "model_multistate_no_obs.actions[0].args['atol'] = 1e-12\n",
    "model_multistate_no_obs.actions[0].args['rtol'] = 1e-6\n",
    "%time bionetgen.run(model_multistate_no_obs, suppress=True);"
   ]
  },
  {
   "cell_type": "code",
   "execution_count": null,
   "metadata": {},
   "outputs": [],
   "source": [
    "# Check (sparse) ODE simulation output.\n",
    "model_multistate.actions[0].args['sparse'] = 1\n",
    "model_multistate.actions[0].args['t_end'] = 10.0   \n",
    "model_multistate.actions[0].args['n_steps'] = 10\n",
    "%time result_multistate_ODE_sparse = bionetgen.run(model_multistate, suppress=True);\n",
    "plot_result(result_multistate_ODE_sparse)\n",
    "plt.savefig('../Plots/BioNetGen/multistate_ode_sparse_short.png')\n",
    "plt.savefig('../Plots/BioNetGen/multistate_ode_sparse_short.pdf')"
   ]
  },
  {
   "cell_type": "code",
   "execution_count": null,
   "metadata": {},
   "outputs": [],
   "source": [
    "# Check (sparse) ODE simulation output for maximum length simulation.\n",
    "model_multistate.actions[0].args['t_end'] = 100000.0   \n",
    "model_multistate.actions[0].args['n_steps'] = 100000\n",
    "%time result_multistate_ODE_sparse_long = bionetgen.run(model_multistate, suppress=True);\n",
    "plot_result(result_multistate_ODE_sparse_long)\n",
    "plt.savefig('../Plots/BioNetGen/multistate_ode_sparse_long.png')\n",
    "plt.savefig('../Plots/BioNetGen/multistate_ode_sparse_long.pdf')"
   ]
  },
  {
   "cell_type": "code",
   "execution_count": null,
   "metadata": {},
   "outputs": [],
   "source": [
    "# Check (sparse) ODE simulation time.\n",
    "model_multistate_no_obs.actions[0].args['sparse'] = 1\n",
    "%time bionetgen.run(model_multistate_no_obs, suppress=True);"
   ]
  },
  {
   "cell_type": "markdown",
   "metadata": {},
   "source": [
    "#### Gillespie"
   ]
  },
  {
   "cell_type": "code",
   "execution_count": null,
   "metadata": {},
   "outputs": [],
   "source": [
    "# Prepare model for Gillespie simulations.\n",
    "model_multistate.actions[0].args['t_end'] = 10.0    \n",
    "model_multistate.actions[0].args['n_steps'] = 1000    \n",
    "model_multistate.actions[0].args['method'] = '\"ssa\"'    \n",
    "model_multistate_no_obs.actions[0].args['t_end'] = 10.0    \n",
    "model_multistate_no_obs.actions[0].args['n_steps'] = 1000    \n",
    "model_multistate_no_obs.actions[0].args['method'] = '\"ssa\"'    "
   ]
  },
  {
   "cell_type": "code",
   "execution_count": null,
   "metadata": {
    "tags": []
   },
   "outputs": [],
   "source": [
    "# Check Gillespie simulation output.\n",
    "%time result_multistate_Gillespie = bionetgen.run(model_multistate, suppress=True);\n",
    "plot_result(result_multistate_Gillespie)\n",
    "plt.savefig('../Plots/BioNetGen/multistate_ssa_short.png')\n",
    "plt.savefig('../Plots/BioNetGen/multistate_ssa_short.pdf')"
   ]
  },
  {
   "cell_type": "code",
   "execution_count": null,
   "metadata": {},
   "outputs": [],
   "source": [
    "# Check ODE simulation output for maximum length simulation.\n",
    "model_multistate.actions[0].args['t_end'] = 100000.0   \n",
    "model_multistate.actions[0].args['n_steps'] = 10000000\n",
    "%time result_multistate_Gillespie_long = bionetgen.run(model_multistate, suppress=True);\n",
    "plot_result(result_multistate_Gillespie_long)\n",
    "plt.savefig('../Plots/BioNetGen/multistate_ssa_long.png')\n",
    "plt.savefig('../Plots/BioNetGen/multistate_ssa_long.pdf')"
   ]
  },
  {
   "cell_type": "code",
   "execution_count": null,
   "metadata": {},
   "outputs": [],
   "source": [
    "# Check Gillespie simulation time.\n",
    "model_multistate_no_obs.actions[0].args['t_end'] = 10.0   \n",
    "model_multistate_no_obs.actions[0].args['n_steps'] = int(10.0*100)\n",
    "%time bionetgen.run(model_multistate_no_obs, suppress=True);"
   ]
  },
  {
   "cell_type": "markdown",
   "metadata": {
    "tags": []
   },
   "source": [
    "### Multisite2"
   ]
  },
  {
   "cell_type": "code",
   "execution_count": null,
   "metadata": {},
   "outputs": [],
   "source": [
    "# Load model.\n",
    "model_multisite2 = bionetgen.bngmodel('../Data/multisite2.bngl')\n",
    "model_multisite2_no_obs = bionetgen.bngmodel('../Data/multisite2_no_obs.bngl')"
   ]
  },
  {
   "cell_type": "code",
   "execution_count": null,
   "metadata": {},
   "outputs": [],
   "source": [
    "# Check ODE simulation output.\n",
    "model_multisite2.actions[0].args['atol'] = 1e-12\n",
    "model_multisite2.actions[0].args['rtol'] = 1e-6\n",
    "%time result_multisite2_ODE = bionetgen.run(model_multisite2, suppress=True);\n",
    "plot_result(result_multisite2_ODE)\n",
    "plt.savefig('../Plots/BioNetGen/multisite2_ode_short.png')\n",
    "plt.savefig('../Plots/BioNetGen/multisite2_ode_short.pdf')"
   ]
  },
  {
   "cell_type": "code",
   "execution_count": null,
   "metadata": {},
   "outputs": [],
   "source": [
    "# Check ODE simulation output for maximum length simulation.\n",
    "model_multisite2.actions[0].args['t_end'] = 10000.0   \n",
    "model_multisite2.actions[0].args['n_steps'] = 1000000\n",
    "%time result_multisite2_ODE_long = bionetgen.run(model_multisite2, suppress=True);\n",
    "plot_result(result_multisite2_ODE_long)\n",
    "plt.savefig('../Plots/BioNetGen/multisite2_ode_long.png')\n",
    "plt.savefig('../Plots/BioNetGen/multisite2_ode_long.pdf')"
   ]
  },
  {
   "cell_type": "code",
   "execution_count": null,
   "metadata": {},
   "outputs": [],
   "source": [
    "# Check ODE simulation time.\n",
    "model_multisite2_no_obs.actions[0].args['t_end'] = 10.0   \n",
    "model_multisite2_no_obs.actions[0].args['n_steps'] = int(10.0*100)\n",
    "model_multisite2_no_obs.actions[0].args['atol'] = 1e-12\n",
    "model_multisite2_no_obs.actions[0].args['rtol'] = 1e-6\n",
    "%time bionetgen.run(model_multisite2_no_obs, suppress=True);"
   ]
  },
  {
   "cell_type": "code",
   "execution_count": null,
   "metadata": {},
   "outputs": [],
   "source": [
    "# Check (sparse) ODE simulation output.\n",
    "model_multisite2.actions[0].args['sparse'] = 1\n",
    "model_multisite2.actions[0].args['t_end'] = 10.0   \n",
    "model_multisite2.actions[0].args['n_steps'] = 1000\n",
    "%time result_multisite2_ODE_sparse = bionetgen.run(model_multisite2, suppress=True);\n",
    "plot_result(result_multisite2_ODE_sparse)\n",
    "plt.savefig('../Plots/BioNetGen/multisite2_ode_sparse_short.png')\n",
    "plt.savefig('../Plots/BioNetGen/multisite2_ode_sparse_short.pdf')"
   ]
  },
  {
   "cell_type": "code",
   "execution_count": null,
   "metadata": {},
   "outputs": [],
   "source": [
    "# Check (sparse) ODE simulation output for maximum length simulation.\n",
    "model_multisite2.actions[0].args['t_end'] = 10000.0   \n",
    "model_multisite2.actions[0].args['n_steps'] = 1000000\n",
    "%time result_multisite2_ODE_sparse_long = bionetgen.run(model_multisite2, suppress=True);\n",
    "plot_result(result_multisite2_ODE_sparse_long)\n",
    "plt.savefig('../Plots/BioNetGen/multisite2_ode_sparse_long.png')\n",
    "plt.savefig('../Plots/BioNetGen/multisite2_ode_sparse_long.pdf')"
   ]
  },
  {
   "cell_type": "code",
   "execution_count": null,
   "metadata": {},
   "outputs": [],
   "source": [
    "# Check (sparse) ODE simulation time.\n",
    "model_multisite2_no_obs.actions[0].args['sparse'] = 1\n",
    "%time bionetgen.run(model_multisite2_no_obs, suppress=True);"
   ]
  },
  {
   "cell_type": "markdown",
   "metadata": {},
   "source": [
    "#### Gillespie"
   ]
  },
  {
   "cell_type": "code",
   "execution_count": null,
   "metadata": {},
   "outputs": [],
   "source": [
    "# Prepare model for Gillespie simulations.\n",
    "model_multisite2.actions[0].args['t_end'] = 10.0    \n",
    "model_multisite2.actions[0].args['n_steps'] = 1000    \n",
    "model_multisite2.actions[0].args['method'] = '\"ssa\"'    \n",
    "model_multisite2_no_obs.actions[0].args['t_end'] = 10.0    \n",
    "model_multisite2_no_obs.actions[0].args['n_steps'] = 1000    \n",
    "model_multisite2_no_obs.actions[0].args['method'] = '\"ssa\"' "
   ]
  },
  {
   "cell_type": "code",
   "execution_count": null,
   "metadata": {
    "tags": []
   },
   "outputs": [],
   "source": [
    "# Check Gillespie simulation output.\n",
    "%time result_multisite2_Gillespie = bionetgen.run(model_multisite2, suppress=True);\n",
    "plot_result(result_multisite2_Gillespie)\n",
    "plt.savefig('../Plots/BioNetGen/multisite2_ssa_short.png')\n",
    "plt.savefig('../Plots/BioNetGen/multisite2_ssa_short.pdf')"
   ]
  },
  {
   "cell_type": "code",
   "execution_count": null,
   "metadata": {},
   "outputs": [],
   "source": [
    "# Check Gillespie simulation output for maximum length simulation.\n",
    "model_multisite2.actions[0].args['t_end'] = 10000.0   \n",
    "model_multisite2.actions[0].args['n_steps'] = 1000000\n",
    "%time result_multisite2_Gillespie_long = bionetgen.run(model_multisite2, suppress=True);\n",
    "plot_result(result_multisite2_Gillespie_long)\n",
    "plt.savefig('../Plots/BioNetGen/multisite2_ssa_long.png')\n",
    "plt.savefig('../Plots/BioNetGen/multisite2_ssa_long.pdf')"
   ]
  },
  {
   "cell_type": "code",
   "execution_count": null,
   "metadata": {},
   "outputs": [],
   "source": [
    "# Check Gillespie simulation time.\n",
    "model_multisite2_no_obs.actions[0].args['t_end'] = 10.0   \n",
    "model_multisite2_no_obs.actions[0].args['n_steps'] = int(10.0*100)\n",
    "%time bionetgen.run(model_multisite2_no_obs, suppress=True);"
   ]
  },
  {
   "cell_type": "markdown",
   "metadata": {
    "tags": []
   },
   "source": [
    "### Egfr_net"
   ]
  },
  {
   "cell_type": "code",
   "execution_count": null,
   "metadata": {},
   "outputs": [],
   "source": [
    "# Load model.\n",
    "model_egfr_net = bionetgen.bngmodel('../Data/egfr_net.bngl')\n",
    "model_egfr_net_no_obs = bionetgen.bngmodel('../Data/egfr_net_no_obs.bngl')"
   ]
  },
  {
   "cell_type": "code",
   "execution_count": null,
   "metadata": {},
   "outputs": [],
   "source": [
    "# Check ODE simulation output.\n",
    "model_egfr_net.actions[0].args['atol'] = 1e-12\n",
    "model_egfr_net.actions[0].args['rtol'] = 1e-6\n",
    "%time result_egfr_net_ODE = bionetgen.run(model_egfr_net, suppress=True);\n",
    "plot_result(result_egfr_net_ODE)\n",
    "plt.savefig('../Plots/BioNetGen/egfr_net_ode_short.png')\n",
    "plt.savefig('../Plots/BioNetGen/egfr_net_ode_short.pdf')"
   ]
  },
  {
   "cell_type": "code",
   "execution_count": null,
   "metadata": {},
   "outputs": [],
   "source": [
    "# Check ODE simulation output for maximum length simulation.\n",
    "model_egfr_net.actions[0].args['t_end'] = 1000.0   \n",
    "model_egfr_net.actions[0].args['n_steps'] = 100000\n",
    "%time result_egfr_net_ODE_long = bionetgen.run(model_egfr_net, suppress=True);\n",
    "plot_result(result_egfr_net_ODE_long)\n",
    "plt.savefig('../Plots/BioNetGen/egfr_net_ode_long.png')\n",
    "plt.savefig('../Plots/BioNetGen/egfr_net_ode_long.pdf')"
   ]
  },
  {
   "cell_type": "code",
   "execution_count": null,
   "metadata": {},
   "outputs": [],
   "source": [
    "# Check ODE simulation time.\n",
    "model_egfr_net_no_obs.actions[0].args['t_end'] = 10.0   \n",
    "model_egfr_net_no_obs.actions[0].args['n_steps'] = int(10.0*100)\n",
    "model_egfr_net_no_obs.actions[0].args['atol'] = 1e-12\n",
    "model_egfr_net_no_obs.actions[0].args['rtol'] = 1e-6\n",
    "%time bionetgen.run(model_egfr_net_no_obs, suppress=True);"
   ]
  },
  {
   "cell_type": "code",
   "execution_count": null,
   "metadata": {},
   "outputs": [],
   "source": [
    "# Check (sparse) ODE simulation output.\n",
    "model_egfr_net.actions[0].args['sparse'] = 1\n",
    "model_egfr_net.actions[0].args['t_end'] = 10.0   \n",
    "model_egfr_net.actions[0].args['n_steps'] = 1000\n",
    "%time result_egfr_net_ODE_sparse = bionetgen.run(model_egfr_net, suppress=True);\n",
    "plot_result(result_egfr_net_ODE_sparse)\n",
    "plt.savefig('../Plots/BioNetGen/egfr_net_ode_sparse_short.png')\n",
    "plt.savefig('../Plots/BioNetGen/egfr_net_ode_sparse_short.pdf')"
   ]
  },
  {
   "cell_type": "code",
   "execution_count": null,
   "metadata": {},
   "outputs": [],
   "source": [
    "# Check (sparse) ODE simulation output for maximum length simulation.\n",
    "model_egfr_net.actions[0].args['t_end'] = 1000.0   \n",
    "model_egfr_net.actions[0].args['n_steps'] = 100000\n",
    "%time result_egfr_net_ODE_sparse_long = bionetgen.run(model_egfr_net, suppress=True);\n",
    "plot_result(result_egfr_net_ODE_sparse_long)\n",
    "plt.savefig('../Plots/BioNetGen/egfr_net_ode_sparse_long.png')\n",
    "plt.savefig('../Plots/BioNetGen/egfr_net_ode_sparse_long.pdf')"
   ]
  },
  {
   "cell_type": "code",
   "execution_count": null,
   "metadata": {},
   "outputs": [],
   "source": [
    "# Check (sparse) ODE simulation time.\n",
    "model_egfr_net_no_obs.actions[0].args['sparse'] = 1\n",
    "%time bionetgen.run(model_egfr_net_no_obs, suppress=True);"
   ]
  },
  {
   "cell_type": "markdown",
   "metadata": {},
   "source": [
    "#### Gillespie"
   ]
  },
  {
   "cell_type": "code",
   "execution_count": null,
   "metadata": {},
   "outputs": [],
   "source": [
    "# Prepare model for Gillespie simulations.\n",
    "model_egfr_net.actions[0].args['t_end'] = 10.0    \n",
    "model_egfr_net.actions[0].args['n_steps'] = 1000    \n",
    "model_egfr_net.actions[0].args['method'] = '\"ssa\"'   \n",
    "model_egfr_net_no_obs.actions[0].args['t_end'] = 10.0    \n",
    "model_egfr_net_no_obs.actions[0].args['n_steps'] = 1000    \n",
    "model_egfr_net_no_obs.actions[0].args['method'] = '\"ssa\"'    "
   ]
  },
  {
   "cell_type": "code",
   "execution_count": null,
   "metadata": {
    "tags": []
   },
   "outputs": [],
   "source": [
    "# Check Gillespie simulation output.\n",
    "%time result_egfr_net_Gillespie = bionetgen.run(model_egfr_net, suppress=True);\n",
    "plot_result(result_egfr_net_Gillespie)\n",
    "plt.savefig('../Plots/BioNetGen/egfr_net_ssa_short.png')\n",
    "plt.savefig('../Plots/BioNetGen/egfr_net_ssa_short.pdf')"
   ]
  },
  {
   "cell_type": "code",
   "execution_count": null,
   "metadata": {},
   "outputs": [],
   "source": [
    "# Check Gillespie simulation output for maximum length simulation.\n",
    "model_egfr_net.actions[0].args['t_end'] = 1000.0   \n",
    "model_egfr_net.actions[0].args['n_steps'] = 100000\n",
    "%time result_egfr_net_Gillespie_long = bionetgen.run(model_egfr_net, suppress=True);\n",
    "plot_result(result_egfr_net_Gillespie_long)\n",
    "plt.savefig('../Plots/BioNetGen/egfr_net_ssa_long.png')\n",
    "plt.savefig('../Plots/BioNetGen/egfr_net_ssa_long.pdf')"
   ]
  },
  {
   "cell_type": "code",
   "execution_count": null,
   "metadata": {},
   "outputs": [],
   "source": [
    "# Check Gillespie simulation time.\n",
    "model_egfr_net_no_obs.actions[0].args['t_end'] = 10.0   \n",
    "model_egfr_net_no_obs.actions[0].args['n_steps'] = int(10.0*100)\n",
    "%time bionetgen.run(model_egfr_net_no_obs, suppress=True);"
   ]
  },
  {
   "cell_type": "markdown",
   "metadata": {
    "tags": []
   },
   "source": [
    "### BCR"
   ]
  },
  {
   "cell_type": "markdown",
   "metadata": {},
   "source": [
    "#### ODE"
   ]
  },
  {
   "cell_type": "code",
   "execution_count": null,
   "metadata": {},
   "outputs": [],
   "source": [
    "# Load model.\n",
    "model_BCR = bionetgen.bngmodel('../Data/BCR.bngl')\n",
    "model_BCR_no_obs = bionetgen.bngmodel('../Data/BCR_no_obs.bngl')"
   ]
  },
  {
   "cell_type": "code",
   "execution_count": null,
   "metadata": {},
   "outputs": [],
   "source": [
    "# Check ODE simulation output.\n",
    "model_BCR.actions[0].args['atol'] = 1e-12\n",
    "model_BCR.actions[0].args['rtol'] = 1e-6\n",
    "%time result_BCR_ODE = bionetgen.run(model_BCR, suppress=True);\n",
    "plot_result(result_BCR_ODE)\n",
    "plt.savefig('../Plots/BioNetGen/BCR_ode_short.png')\n",
    "plt.savefig('../Plots/BioNetGen/BCR_ode_short.pdf')"
   ]
  },
  {
   "cell_type": "code",
   "execution_count": null,
   "metadata": {},
   "outputs": [],
   "source": [
    "# Check ODE simulation output for maximum length simulation.\n",
    "model_BCR.actions[0].args['t_end'] = 1000.0   \n",
    "model_BCR.actions[0].args['n_steps'] = 100000\n",
    "%time result_BCR_ODE_long = bionetgen.run(model_BCR, suppress=True);\n",
    "plot_result(result_BCR_ODE_long)\n",
    "plt.savefig('../Plots/BioNetGen/BCR_ode_long.png')\n",
    "plt.savefig('../Plots/BioNetGen/BCR_ode_long.pdf')"
   ]
  },
  {
   "cell_type": "code",
   "execution_count": null,
   "metadata": {},
   "outputs": [],
   "source": [
    "# Check ODE simulation time.\n",
    "model_BCR_no_obs.actions[0].args['t_end'] = 10.0   \n",
    "model_BCR_no_obs.actions[0].args['n_steps'] = int(10.0*100)\n",
    "model_BCR_no_obs.actions[0].args['atol'] = 1e-12\n",
    "model_BCR_no_obs.actions[0].args['rtol'] = 1e-6\n",
    "%time bionetgen.run(model_BCR_no_obs, suppress=True);"
   ]
  },
  {
   "cell_type": "code",
   "execution_count": null,
   "metadata": {},
   "outputs": [],
   "source": [
    "# Check (sparse) ODE simulation output.\n",
    "model_BCR.actions[0].args['sparse'] = 1\n",
    "model_BCR.actions[0].args['t_end'] = 10.0   \n",
    "model_BCR.actions[0].args['n_steps'] = 1000\n",
    "%time result_BCR_ODE_sparse = bionetgen.run(model_BCR, suppress=True);\n",
    "plot_result(result_BCR_ODE_sparse)\n",
    "plt.savefig('../Plots/BioNetGen/BCR_ode_sparse_short.png')\n",
    "plt.savefig('../Plots/BioNetGen/BCR_ode_sparse_short.pdf')"
   ]
  },
  {
   "cell_type": "code",
   "execution_count": null,
   "metadata": {},
   "outputs": [],
   "source": [
    "# Check (sparse) ODE simulation output for maximum length simulation.\n",
    "model_BCR.actions[0].args['t_end'] = 1000.0   \n",
    "model_BCR.actions[0].args['n_steps'] = 100000\n",
    "%time result_BCR_ODE_sparse_long = bionetgen.run(model_BCR, suppress=True);\n",
    "plot_result(result_BCR_ODE_sparse_long)\n",
    "plt.savefig('../Plots/BioNetGen/BCR_ode_sparse_long.png')\n",
    "plt.savefig('../Plots/BioNetGen/BCR_ode_sparse_long.pdf')"
   ]
  },
  {
   "cell_type": "code",
   "execution_count": null,
   "metadata": {},
   "outputs": [],
   "source": [
    "# Check (sparse) ODE simulation time.\n",
    "model_BCR_no_obs.actions[0].args['sparse'] = 1\n",
    "%time bionetgen.run(model_BCR_no_obs, suppress=True);"
   ]
  },
  {
   "cell_type": "markdown",
   "metadata": {},
   "source": [
    "#### Gillespie"
   ]
  },
  {
   "cell_type": "code",
   "execution_count": null,
   "metadata": {},
   "outputs": [],
   "source": [
    "# Load model.\n",
    "model_BCRSSA = bionetgen.bngmodel('../Data/BCRSSA.xml')\n",
    "model_BCRSSA.add_action('simulate', {'method':'\"ssa\"', 't_end':10.0, 'n_steps':1000})"
   ]
  },
  {
   "cell_type": "code",
   "execution_count": null,
   "metadata": {},
   "outputs": [],
   "source": [
    "# Check Gillespie simulation output.\n",
    "%time result_BCRSSA_Gillespie = bionetgen.run(model_BCRSSA, suppress=True);\n",
    "plot_result(result_BCRSSA_Gillespie)\n",
    "plt.savefig('../Plots/BioNetGen/BCR_ssa_short.png')\n",
    "plt.savefig('../Plots/BioNetGen/BCR_ssa_short.pdf')"
   ]
  },
  {
   "cell_type": "code",
   "execution_count": null,
   "metadata": {},
   "outputs": [],
   "source": [
    "# Check Gillespie simulation output.\n",
    "model_BCRSSA.actions[0].args['t_end'] = 1000.0   \n",
    "model_BCRSSA.actions[0].args['n_steps'] = 100000\n",
    "%time result_BCRSSA_Gillespie = bionetgen.run(model_BCRSSA, suppress=True);\n",
    "plot_result(result_BCRSSA_Gillespie)\n",
    "plt.savefig('../Plots/BioNetGen/BCR_ssa.png')\n",
    "plt.savefig('../Plots/BioNetGen/BCR_ssa.pdf')"
   ]
  },
  {
   "cell_type": "code",
   "execution_count": null,
   "metadata": {},
   "outputs": [],
   "source": [
    "# Check Gillespie simulation time.\n",
    "model_BCRSSA.actions[0].args['t_end'] = 1000.0   \n",
    "model_BCRSSA.actions[0].args['n_steps'] = int(1000.0*100)\n",
    "%time bionetgen.run(model_BCRSSA, suppress=True);"
   ]
  },
  {
   "cell_type": "markdown",
   "metadata": {
    "tags": []
   },
   "source": [
    "### Fceri_gamma2"
   ]
  },
  {
   "cell_type": "code",
   "execution_count": null,
   "metadata": {},
   "outputs": [],
   "source": [
    "# Load model.\n",
    "model_fceri_gamma2 = bionetgen.bngmodel('../Data/fceri_gamma2.bngl')\n",
    "model_fceri_gamma2_no_obs = bionetgen.bngmodel('../Data/fceri_gamma2_no_obs.bngl')"
   ]
  },
  {
   "cell_type": "code",
   "execution_count": null,
   "metadata": {},
   "outputs": [],
   "source": [
    "# Check ODE simulation output.\n",
    "model_fceri_gamma2.actions[0].args['atol'] = 1e-12\n",
    "model_fceri_gamma2.actions[0].args['rtol'] = 1e-6\n",
    "%time result_fceri_gamma2_ODE = bionetgen.run(model_fceri_gamma2, suppress=True);\n",
    "plot_result(result_fceri_gamma2_ODE)\n",
    "plt.savefig('../Plots/BioNetGen/fceri_gamma2_ode_short.png')\n",
    "plt.savefig('../Plots/BioNetGen/fceri_gamma2_ode_short.pdf')"
   ]
  },
  {
   "cell_type": "code",
   "execution_count": null,
   "metadata": {},
   "outputs": [],
   "source": [
    "# Check ODE simulation output for maximum length simulation.\n",
    "model_fceri_gamma2.actions[0].args['t_end'] = 1000.0   \n",
    "model_fceri_gamma2.actions[0].args['n_steps'] = 100000\n",
    "%time result_fceri_gamma2_ODE_long = bionetgen.run(model_fceri_gamma2, suppress=True);\n",
    "plot_result(result_fceri_gamma2_ODE_long)\n",
    "plt.savefig('../Plots/BioNetGen/fceri_gamma2_ode_long.png')\n",
    "plt.savefig('../Plots/BioNetGen/fceri_gamma2_ode_long.pdf')"
   ]
  },
  {
   "cell_type": "code",
   "execution_count": null,
   "metadata": {},
   "outputs": [],
   "source": [
    "# Check ODE simulation time.\n",
    "model_fceri_gamma2.actions[0].args['sparse'] = 1\n",
    "model_fceri_gamma2_no_obs.actions[0].args['t_end'] = 10.0   \n",
    "model_fceri_gamma2_no_obs.actions[0].args['n_steps'] = int(10.0*100)\n",
    "model_fceri_gamma2_no_obs.actions[0].args['atol'] = 1e-12\n",
    "model_fceri_gamma2_no_obs.actions[0].args['rtol'] = 1e-6\n",
    "%time bionetgen.run(model_fceri_gamma2_no_obs, suppress=True);"
   ]
  },
  {
   "cell_type": "code",
   "execution_count": null,
   "metadata": {},
   "outputs": [],
   "source": [
    "# Check (sparse) ODE simulation output.\n",
    "model_fceri_gamma2.actions[0].args['sparse'] = 1\n",
    "model_fceri_gamma2.actions[0].args['t_end'] = 10.0   \n",
    "model_fceri_gamma2.actions[0].args['n_steps'] = 10000\n",
    "%time result_fceri_gamma2_ODE_sparse = bionetgen.run(model_fceri_gamma2, suppress=True);\n",
    "plot_result(result_fceri_gamma2_ODE_sparse)\n",
    "plt.savefig('../Plots/BioNetGen/fceri_gamma2_ode_sparse_short.png')\n",
    "plt.savefig('../Plots/BioNetGen/fceri_gamma2_ode_sparse_short.pdf')"
   ]
  },
  {
   "cell_type": "code",
   "execution_count": null,
   "metadata": {},
   "outputs": [],
   "source": [
    "# Check (sparse) ODE simulation output for maximum length simulation.\n",
    "model_fceri_gamma2.actions[0].args['t_end'] = 1000.0   \n",
    "model_fceri_gamma2.actions[0].args['n_steps'] = 1000\n",
    "%time result_fceri_gamma2_ODE_sparse_long = bionetgen.run(model_fceri_gamma2, suppress=True);\n",
    "plot_result(result_fceri_gamma2_ODE_sparse_long)\n",
    "plt.savefig('../Plots/BioNetGen/fceri_gamma2_ode_sparse_long.png')\n",
    "plt.savefig('../Plots/BioNetGen/fceri_gamma2_ode_sparse_long.pdf')"
   ]
  },
  {
   "cell_type": "code",
   "execution_count": null,
   "metadata": {},
   "outputs": [],
   "source": [
    "# Check (sparse) ODE simulation time.\n",
    "model_fceri_gamma2_no_obs.actions[0].args['sparse'] = 1\n",
    "%time bionetgen.run(model_fceri_gamma2_no_obs, suppress=True);"
   ]
  },
  {
   "cell_type": "markdown",
   "metadata": {},
   "source": [
    "#### Gillespie"
   ]
  },
  {
   "cell_type": "code",
   "execution_count": null,
   "metadata": {},
   "outputs": [],
   "source": [
    "# Prepare model for Gillespie simulations.\n",
    "model_fceri_gamma2.actions[0].args['t_end'] = 10.0    \n",
    "model_fceri_gamma2.actions[0].args['n_steps'] = 1000    \n",
    "model_fceri_gamma2.actions[0].args['method'] = '\"ssa\"'  \n",
    "model_fceri_gamma2_no_obs.actions[0].args['t_end'] = 10.0    \n",
    "model_fceri_gamma2_no_obs.actions[0].args['n_steps'] = 1000    \n",
    "model_fceri_gamma2_no_obs.actions[0].args['method'] = '\"ssa\"'    "
   ]
  },
  {
   "cell_type": "code",
   "execution_count": null,
   "metadata": {
    "tags": []
   },
   "outputs": [],
   "source": [
    "# Check Gillespie simulation output.\n",
    "%time result_fceri_gamma2_Gillespie = bionetgen.run(model_fceri_gamma2, suppress=True);\n",
    "plot_result(result_fceri_gamma2_Gillespie)\n",
    "plt.savefig('../Plots/BioNetGen/fceri_gamma2_ssa_short.png')\n",
    "plt.savefig('../Plots/BioNetGen/fceri_gamma2_ssa_short.pdf')"
   ]
  },
  {
   "cell_type": "code",
   "execution_count": null,
   "metadata": {},
   "outputs": [],
   "source": [
    "# Check Gillespie simulation output for maximum length simulation.\n",
    "model_fceri_gamma2.actions[0].args['t_end'] = 1000.0   \n",
    "model_fceri_gamma2.actions[0].args['n_steps'] = 100000\n",
    "%time result_fceri_gamma2_Gillespie_long = bionetgen.run(model_fceri_gamma2, suppress=True);\n",
    "plot_result(result_fceri_gamma2_Gillespie_long)\n",
    "plt.savefig('../Plots/BioNetGen/fceri_gamma2_ssa_long.png')\n",
    "plt.savefig('../Plots/BioNetGen/fceri_gamma2_ssa_long.pdf')"
   ]
  },
  {
   "cell_type": "code",
   "execution_count": null,
   "metadata": {},
   "outputs": [],
   "source": [
    "# Check Gillespie simulation time.\n",
    "model_fceri_gamma2_no_obs.actions[0].args['t_end'] = 10.0   \n",
    "model_fceri_gamma2_no_obs.actions[0].args['n_steps'] = int(10.0*100)\n",
    "%time bionetgen.run(model_fceri_gamma2_no_obs, suppress=True);"
   ]
  },
  {
   "cell_type": "code",
   "execution_count": null,
   "metadata": {},
   "outputs": [],
   "source": []
  }
 ],
 "metadata": {
  "kernelspec": {
   "display_name": "Python 3",
   "language": "python",
   "name": "python3"
  },
  "language_info": {
   "codemirror_mode": {
    "name": "ipython",
    "version": 3
   },
   "file_extension": ".py",
   "mimetype": "text/x-python",
   "name": "python",
   "nbconvert_exporter": "python",
   "pygments_lexer": "ipython3",
   "version": "3.7.4"
  }
 },
 "nbformat": 4,
 "nbformat_minor": 5
}
