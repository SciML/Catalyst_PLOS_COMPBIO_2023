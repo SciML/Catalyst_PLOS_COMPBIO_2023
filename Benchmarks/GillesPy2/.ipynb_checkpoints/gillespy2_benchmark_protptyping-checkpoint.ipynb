{
 "cells": [
  {
   "cell_type": "markdown",
   "metadata": {},
   "source": [
    "# Preparations"
   ]
  },
  {
   "cell_type": "code",
   "execution_count": null,
   "metadata": {},
   "outputs": [],
   "source": [
    "# Fetch packages.\n",
    "import sys, os, numpy, libsbml, gillespy2\n",
    "import matplotlib.pyplot as plt\n",
    "import json\n",
    "import statistics\n",
    "import timeit\n",
    "import numpy\n",
    "from gillespy2 import TauHybridSolver, NumPySSASolver, ODESolver, ODECSolver, TauLeapingSolver, SSACSolver"
   ]
  },
  {
   "cell_type": "code",
   "execution_count": null,
   "metadata": {},
   "outputs": [],
   "source": [
    "# Plots the model simulation output.\n",
    "def plot_results(result,species):\n",
    "    for s in species:\n",
    "      plt.plot(result['time'],result[s])\n",
    "\n",
    "# Function for plotting benchmarking output.\n",
    "def plot_benchmark(benchmarks,lengs):\n",
    "    medians = list(1000*numpy.array(list(map(statistics.median, benchmarks))))\n",
    "    plt.plot(lengs,medians,linewidth=4)\n",
    "    plt.xscale(\"log\")\n",
    "    plt.yscale(\"log\")\n",
    "    plt.xlim([lengs[0],lengs[-1]])\n",
    "    plt.ylim([0.001,1.2*numpy.max(medians)])    # Choice of ymin does skew how plot appears."
   ]
  },
  {
   "cell_type": "code",
   "execution_count": null,
   "metadata": {},
   "outputs": [],
   "source": [
    "# Benchmarking functions.\n",
    "def make_ODE_benchmark(model,n,leng):\n",
    "    def benchmark_func():\n",
    "        model.run(solver=ODESolver,t=leng,integrator='lsoda')\n",
    "    return timeit.Timer(benchmark_func).repeat(repeat=n, number=1)\n",
    "def make_Gillespie_benchmark(model,n,leng):\n",
    "    def benchmark_func():\n",
    "        model.run(solver=SSACSolver,t=leng)\n",
    "    return timeit.Timer(benchmark_func).repeat(repeat=n, number=1)\n",
    "\n",
    "# Serialises a benchmarking output using JSON.\n",
    "def serialize(benchmarks,lengs,filename):\n",
    "    with open('../Benchmarking_results/Prototyping/%s.json'%(filename) , \"w\") as write:\n",
    "        json.dump({\"benchmarks\": benchmarks, \"medians\": list(1000*numpy.array(list(map(statistics.median, benchmarks)))), \"lengs\": lengs.tolist()} , write)"
   ]
  },
  {
   "cell_type": "code",
   "execution_count": null,
   "metadata": {},
   "outputs": [],
   "source": [
    "# Benchmarking parameters\n",
    "n = 10"
   ]
  },
  {
   "cell_type": "markdown",
   "metadata": {},
   "source": [
    "# Benchamarks"
   ]
  },
  {
   "cell_type": "markdown",
   "metadata": {
    "tags": []
   },
   "source": [
    "### Multistate"
   ]
  },
  {
   "cell_type": "code",
   "execution_count": null,
   "metadata": {
    "tags": []
   },
   "outputs": [],
   "source": [
    "# Load model.\n",
    "model_multistate = gillespy2.core.import_SBML('../Data/multistate.xml')[0]\n",
    "model_multistate_no_obs = gillespy2.core.import_SBML('../Data/multistate_no_obs.xml')[0]"
   ]
  },
  {
   "cell_type": "code",
   "execution_count": null,
   "metadata": {},
   "outputs": [],
   "source": [
    "# Check output (plotting currently only possible using TauHybridSolver algorithm).\n",
    "%time tc_multistate_THS = model_multistate.run(solver=TauHybridSolver,t=10)\n",
    "plot_results(tc_multistate_THS,['A_P', 'A_unbound_P', 'A_bound_P','RLA_P'])\n",
    "plt.savefig('../Plots/Gillespy2/multistate_ths_short.png')\n",
    "plt.savefig('../Plots/Gillespy2/multistate_ths_short.pdf')"
   ]
  },
  {
   "cell_type": "code",
   "execution_count": null,
   "metadata": {},
   "outputs": [],
   "source": [
    "# Check output for maximum length simulation (plotting currently only possible using TauHybridSolver algorithm).\n",
    "%time long_tc_multistate_THS = model_multistate.run(solver=TauHybridSolver,t=100000)\n",
    "plot_results(long_tc_multistate_THS,['A_P', 'A_unbound_P', 'A_bound_P','RLA_P'])\n",
    "plt.savefig('../Plots/Gillespy2/multistate_ths_long.png')\n",
    "plt.savefig('../Plots/Gillespy2/multistate_ths_long.pdf')"
   ]
  },
  {
   "cell_type": "code",
   "execution_count": null,
   "metadata": {},
   "outputs": [],
   "source": [
    "# Check ODE simulation time (plotting currently not possible).\n",
    "%time tc_multistate_ODE = model_multistate_no_obs.run(solver=ODESolver,t=10,integrator='lsoda')"
   ]
  },
  {
   "cell_type": "markdown",
   "metadata": {
    "tags": []
   },
   "source": [
    "### Multisite2"
   ]
  },
  {
   "cell_type": "code",
   "execution_count": null,
   "metadata": {
    "tags": []
   },
   "outputs": [],
   "source": [
    "# Load model.\n",
    "model_multisite2 = gillespy2.core.import_SBML('../Data/multisite2.xml')[0]\n",
    "model_multisite2_no_obs = gillespy2.core.import_SBML('../Data/multisite2_no_obs.xml')[0]"
   ]
  },
  {
   "cell_type": "code",
   "execution_count": null,
   "metadata": {},
   "outputs": [],
   "source": [
    "# Check output (plotting currently only possible using TauHybridSolver algorithm).\n",
    "%time tc_multisite2_THS = model_multisite2.run(solver=TauHybridSolver,t=10)\n",
    "plot_results(tc_multisite2_THS,['Rfree', 'Lfree', 'A1P'])\n",
    "plt.savefig('../Plots/Gillespy2/multisite2_ths_short.png')\n",
    "plt.savefig('../Plots/Gillespy2/multisite2_ths_short.pdf')"
   ]
  },
  {
   "cell_type": "code",
   "execution_count": null,
   "metadata": {},
   "outputs": [],
   "source": [
    "# Check output for maximum length simulation (plotting currently only possible using TauHybridSolver algorithm).\n",
    "%time long_tc_multisite2_THS = model_multisite2.run(solver=TauHybridSolver,t=10000)\n",
    "plot_results(long_tc_multisite2_THS,['Rfree', 'Lfree', 'A1P'])\n",
    "plt.savefig('../Plots/Gillespy2/multisite2_ths_long.png')\n",
    "plt.savefig('../Plots/Gillespy2/multisite2_ths_long.pdf')"
   ]
  },
  {
   "cell_type": "code",
   "execution_count": null,
   "metadata": {},
   "outputs": [],
   "source": [
    "# Check ODE simulation (plotting currently not possible).\n",
    "%time tc_multisite2_ODE = model_multisite2_no_obs.run(solver=ODESolver,t=10,integrator='lsoda')"
   ]
  },
  {
   "cell_type": "markdown",
   "metadata": {
    "tags": []
   },
   "source": [
    "### Egfr_net"
   ]
  },
  {
   "cell_type": "code",
   "execution_count": null,
   "metadata": {
    "tags": []
   },
   "outputs": [],
   "source": [
    "# Load model.\n",
    "model_egfr_net = gillespy2.core.import_SBML('../Data/egfr_net.xml')[0]\n",
    "model_egfr_net_no_obs = gillespy2.core.import_SBML('../Data/egfr_net_no_obs.xml')[0]"
   ]
  },
  {
   "cell_type": "code",
   "execution_count": null,
   "metadata": {},
   "outputs": [],
   "source": [
    "# Check output (plotting currently only possible using TauHybridSolver algorithm).\n",
    "%time tc_egfr_net_THS = model_egfr_net.run(solver=TauHybridSolver,t=10)\n",
    "plot_results(tc_egfr_net_THS,['Dimers', 'Sos_act', 'Y1068', 'Y1148', 'Shc_Grb', 'Shc_Grb_Sos', 'R_Grb2', 'R_Shc', 'R_ShcP', 'ShcP', 'R_G_S', 'R_S_G_S', 'Efgr_tot'])\n",
    "plt.savefig('../Plots/Gillespy2/egfr_net_ths_short.png')\n",
    "plt.savefig('../Plots/Gillespy2/egfr_net_ths_short.pdf')"
   ]
  },
  {
   "cell_type": "code",
   "execution_count": null,
   "metadata": {},
   "outputs": [],
   "source": [
    "# Check output for maximum length simulation (plotting currently only possible using TauHybridSolver algorithm).\n",
    "%time long_tc_egfr_net_THS = model_egfr_net.run(solver=TauHybridSolver,t=1000)\n",
    "plot_results(long_tc_egfr_net_THS,['Dimers', 'Sos_act', 'Y1068', 'Y1148', 'Shc_Grb', 'Shc_Grb_Sos', 'R_Grb2', 'R_Shc', 'R_ShcP', 'ShcP', 'R_G_S', 'R_S_G_S', 'Efgr_tot'])\n",
    "plt.savefig('../Plots/Gillespy2/egfr_net_ths_long.png')\n",
    "plt.savefig('../Plots/Gillespy2/egfr_net_ths_long.pdf')"
   ]
  },
  {
   "cell_type": "code",
   "execution_count": null,
   "metadata": {},
   "outputs": [],
   "source": [
    "# Check ODE simulation (plotting currently not possible).\n",
    "%time tc_egfr_net_ODE = model_egfr_net_no_obs.run(solver=ODESolver,t=10,integrator='lsoda')"
   ]
  },
  {
   "cell_type": "markdown",
   "metadata": {
    "tags": []
   },
   "source": [
    "### BCR"
   ]
  },
  {
   "cell_type": "code",
   "execution_count": null,
   "metadata": {
    "tags": []
   },
   "outputs": [],
   "source": [
    "# Load model.\n",
    "model_BCR = gillespy2.core.import_SBML('../Data/BCR.xml')[0]\n",
    "model_BCR_no_obs = gillespy2.core.import_SBML('../Data/BCR_no_obs.xml')[0]"
   ]
  },
  {
   "cell_type": "code",
   "execution_count": null,
   "metadata": {},
   "outputs": [],
   "source": [
    "# Check output (plotting currently only possible using TauHybridSolver algorithm).\n",
    "%time tc_BCR_THS = model_BCR.run(solver=TauHybridSolver,t=10)\n",
    "plot_results(tc_BCR_THS,['Activated_Syk', 'Ig_alpha_P', 'Ig_alpha_PP', 'Ig_beta_PP', 'Activated_Lyn', 'Autoinhibited_Lyn', 'Activated_Fyn', 'Autoinhibited_Fyn', 'PAG1_Csk'])\n",
    "plt.savefig('../Plots/Gillespy2/BCR_ths_short.png')\n",
    "plt.savefig('../Plots/Gillespy2/BCR_ths_short.pdf')"
   ]
  },
  {
   "cell_type": "code",
   "execution_count": null,
   "metadata": {},
   "outputs": [],
   "source": [
    "# Check output for maximum length simulation (plotting currently only possible using TauHybridSolver algorithm).\n",
    "%time long_tc_BCR_THS = model_BCR.run(solver=TauHybridSolver,t=100)\n",
    "plot_results(long_tc_BCR_THS,['Activated_Syk', 'Ig_alpha_P', 'Ig_alpha_PP', 'Ig_beta_PP', 'Activated_Lyn', 'Autoinhibited_Lyn', 'Activated_Fyn', 'Autoinhibited_Fyn', 'PAG1_Csk'])\n",
    "plt.savefig('../Plots/Gillespy2/BCR_ths_long.png')\n",
    "plt.savefig('../Plots/Gillespy2/BCR_ths_long.pdf')"
   ]
  },
  {
   "cell_type": "code",
   "execution_count": null,
   "metadata": {},
   "outputs": [],
   "source": [
    "# Check ODE simulation (plotting currently not possible).\n",
    "%time tc_BCR_ODE = model_BCR_no_obs.run(solver=ODESolver,t=10.0,integrator='lsoda')"
   ]
  },
  {
   "cell_type": "markdown",
   "metadata": {
    "tags": []
   },
   "source": [
    "### Fceri_gamma2"
   ]
  },
  {
   "cell_type": "code",
   "execution_count": null,
   "metadata": {
    "tags": []
   },
   "outputs": [],
   "source": [
    "### Simulations not performed using Copasi for the fceri_gamma2 model (too long simulation times required). ###\n",
    "# Load model.\n",
    "# model_fceri_gamma2 = gillespy2.core.import_SBML('../Data/fceri_gamma2.xml')[0]\n",
    "# model_fceri_gamma2_no_obs = gillespy2.core.import_SBML('../Data/fceri_gamma2_no_obs.xml')[0]"
   ]
  },
  {
   "cell_type": "code",
   "execution_count": null,
   "metadata": {},
   "outputs": [],
   "source": [
    "# Check output (plotting currently only possible using TauHybridSolver algorithm).\n",
    "# %time tc_fceri_gamma2_THS = model_fceri_gamma2_no_obs.run(solver=TauHybridSolver,t=10)\n",
    "# plot_results(tc_fceri_gamma2_THS,['Lyn_Free', 'RecMon', 'RecPbeta', 'RecPgamma', 'RecSyk', 'RecSykP5'])"
   ]
  },
  {
   "cell_type": "code",
   "execution_count": null,
   "metadata": {},
   "outputs": [],
   "source": [
    "# Check ODE simulation (plotting currently not possible).\n",
    "# %time tc_fceri_gamma2_ODE = model_fceri_gamma2_no_obs.run(solver=ODESolver,t=10,integrator='lsoda')"
   ]
  }
 ],
 "metadata": {
  "kernelspec": {
   "display_name": "Python 3",
   "language": "python",
   "name": "python3"
  },
  "language_info": {
   "codemirror_mode": {
    "name": "ipython",
    "version": 3
   },
   "file_extension": ".py",
   "mimetype": "text/x-python",
   "name": "python",
   "nbconvert_exporter": "python",
   "pygments_lexer": "ipython3",
   "version": "3.7.4"
  }
 },
 "nbformat": 4,
 "nbformat_minor": 5
}
