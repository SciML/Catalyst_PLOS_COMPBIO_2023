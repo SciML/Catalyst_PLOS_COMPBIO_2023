{
 "cells": [
  {
   "cell_type": "code",
   "execution_count": 1,
   "metadata": {},
   "outputs": [],
   "source": [
    "using Catalyst, ModelingToolkit, OrdinaryDiffEq, DifferentialEquations"
   ]
  },
  {
   "cell_type": "code",
   "execution_count": 2,
   "metadata": {},
   "outputs": [
    {
     "data": {
      "text/latex": [
       "$$ \\begin{align*}\n",
       "\\require{mhchem}\n",
       "\\ce{ 2 A &<=>[$kB$][$kD$] B}\n",
       "\\end{align*}\n",
       " $$"
      ],
      "text/plain": [
       "\u001b[0m\u001b[1mModel ##ReactionSystem#274\u001b[22m\n",
       "\u001b[0m\u001b[1mStates (2):\u001b[22m\n",
       "  A(t)\n",
       "  B(t)\n",
       "\u001b[0m\u001b[1mParameters (2):\u001b[22m\n",
       "  kB\n",
       "  kD"
      ]
     },
     "execution_count": 2,
     "metadata": {},
     "output_type": "execute_result"
    }
   ],
   "source": [
    "rs = @reaction_network begin\n",
    "    (kB,kD), 2A <--> B\n",
    "end kB kD"
   ]
  },
  {
   "cell_type": "code",
   "execution_count": 3,
   "metadata": {},
   "outputs": [
    {
     "data": {
      "text/latex": [
       "$$ \\begin{align*}\n",
       "\\require{mhchem}\n",
       "\\ce{ 2 A &<=>[$kB$][$kD$] B}\n",
       "\\end{align*}\n",
       " $$"
      ],
      "text/plain": [
       "\u001b[0m\u001b[1mModel rs\u001b[22m\n",
       "\u001b[0m\u001b[1mStates (2):\u001b[22m\n",
       "  A(t)\n",
       "  B(t)\n",
       "\u001b[0m\u001b[1mParameters (2):\u001b[22m\n",
       "  kB\n",
       "  kD"
      ]
     },
     "execution_count": 3,
     "metadata": {},
     "output_type": "execute_result"
    }
   ],
   "source": [
    "@parameters kB kD\n",
    "@variables t A(t) B(t)\n",
    "\n",
    "reactions = [Reaction(kB, [A], [B], [2], [1]),\n",
    "                    Reaction(kD, [B], [A], [1], [2])]\n",
    "@named rs  = ReactionSystem(reactions, t)"
   ]
  },
  {
   "cell_type": "code",
   "execution_count": 4,
   "metadata": {},
   "outputs": [
    {
     "data": {
      "text/latex": [
       "$$ \\begin{align}\n",
       "\\frac{dA(t)}{dt} =&  - \\left( A\\left( t \\right) \\right)^{2} kB + 2 kD B\\left( t \\right) \\\\\n",
       "\\frac{dB(t)}{dt} =& \\frac{1}{2} \\left( A\\left( t \\right) \\right)^{2} kB - kD B\\left( t \\right)\n",
       "\\end{align}\n",
       " $$"
      ],
      "text/plain": [
       "\u001b[0m\u001b[1mModel rs with 2 \u001b[22m\u001b[0m\u001b[1mequations\u001b[22m\n",
       "\u001b[0m\u001b[1mStates (2):\u001b[22m\n",
       "  A(t)\n",
       "  B(t)\n",
       "\u001b[0m\u001b[1mParameters (2):\u001b[22m\n",
       "  kB\n",
       "  kD"
      ]
     },
     "execution_count": 4,
     "metadata": {},
     "output_type": "execute_result"
    }
   ],
   "source": [
    "os = convert(ODESystem,rs)"
   ]
  },
  {
   "cell_type": "code",
   "execution_count": 5,
   "metadata": {},
   "outputs": [
    {
     "data": {
      "text/plain": [
       "Equation[Differential(t)(A(t)) ~ 2kD*B(t) - kB*(A(t)^2), Differential(t)(B(t)) ~ (1//2)*kB*(A(t)^2) - kD*B(t)][1:2]"
      ]
     },
     "execution_count": 5,
     "metadata": {},
     "output_type": "execute_result"
    }
   ],
   "source": [
    "os.eqs"
   ]
  },
  {
   "cell_type": "code",
   "execution_count": 6,
   "metadata": {},
   "outputs": [
    {
     "data": {
      "text/plain": [
       "(0.0, 10.0)"
      ]
     },
     "execution_count": 6,
     "metadata": {},
     "output_type": "execute_result"
    }
   ],
   "source": [
    "u0 = [A => 1.0, B => 1.0]\n",
    "p = [kD => 1.0, kB => 1.0]\n",
    "tspan = (0.0,10.0)"
   ]
  },
  {
   "cell_type": "code",
   "execution_count": 7,
   "metadata": {},
   "outputs": [],
   "source": [
    "oprob = ODEProblem(os,u0,tspan,p)\n",
    "sol = solve(oprob);"
   ]
  },
  {
   "cell_type": "code",
   "execution_count": 8,
   "metadata": {},
   "outputs": [
    {
     "data": {
      "text/plain": [
       "(:(function (ˍ₋arg1, ˍ₋arg2, t)\n",
       "      \u001b[90m#= /home/SLCU/torkel.loman/.julia/packages/SymbolicUtils/qulQp/src/code.jl:349 =#\u001b[39m\n",
       "      \u001b[90m#= /home/SLCU/torkel.loman/.julia/packages/SymbolicUtils/qulQp/src/code.jl:350 =#\u001b[39m\n",
       "      \u001b[90m#= /home/SLCU/torkel.loman/.julia/packages/SymbolicUtils/qulQp/src/code.jl:351 =#\u001b[39m\n",
       "      begin\n",
       "          begin\n",
       "              \u001b[90m#= /home/SLCU/torkel.loman/.julia/packages/SymbolicUtils/qulQp/src/code.jl:444 =#\u001b[39m\n",
       "              (SymbolicUtils.Code.create_array)(typeof(ˍ₋arg1), nothing, Val{1}(), Val{(2,)}(), (+)((*)((*)(-1//1, ˍ₋arg2[1]), (^)((getindex)(ˍ₋arg1, 1), 2)), (*)((*)(2, ˍ₋arg2[2]), (getindex)(ˍ₋arg1, 2))), (+)((*)((*)(1//2, ˍ₋arg2[1]), (^)((getindex)(ˍ₋arg1, 1), 2)), (*)((*)(-1, ˍ₋arg2[2]), (getindex)(ˍ₋arg1, 2))))\n",
       "          end\n",
       "      end\n",
       "  end), :(function (ˍ₋out, ˍ₋arg1, ˍ₋arg2, t)\n",
       "      \u001b[90m#= /home/SLCU/torkel.loman/.julia/packages/SymbolicUtils/qulQp/src/code.jl:349 =#\u001b[39m\n",
       "      \u001b[90m#= /home/SLCU/torkel.loman/.julia/packages/SymbolicUtils/qulQp/src/code.jl:350 =#\u001b[39m\n",
       "      \u001b[90m#= /home/SLCU/torkel.loman/.julia/packages/SymbolicUtils/qulQp/src/code.jl:351 =#\u001b[39m\n",
       "      begin\n",
       "          begin\n",
       "              \u001b[90m#= /home/SLCU/torkel.loman/.julia/packages/Symbolics/4VdEG/src/build_function.jl:504 =#\u001b[39m\n",
       "              \u001b[90m#= /home/SLCU/torkel.loman/.julia/packages/SymbolicUtils/qulQp/src/code.jl:398 =#\u001b[39m @inbounds begin\n",
       "                      \u001b[90m#= /home/SLCU/torkel.loman/.julia/packages/SymbolicUtils/qulQp/src/code.jl:394 =#\u001b[39m\n",
       "                      ˍ₋out[1] = (+)((*)((*)(-1//1, ˍ₋arg2[1]), (^)((getindex)(ˍ₋arg1, 1), 2)), (*)((*)(2, ˍ₋arg2[2]), (getindex)(ˍ₋arg1, 2)))\n",
       "                      ˍ₋out[2] = (+)((*)((*)(1//2, ˍ₋arg2[1]), (^)((getindex)(ˍ₋arg1, 1), 2)), (*)((*)(-1, ˍ₋arg2[2]), (getindex)(ˍ₋arg1, 2)))\n",
       "                      \u001b[90m#= /home/SLCU/torkel.loman/.julia/packages/SymbolicUtils/qulQp/src/code.jl:396 =#\u001b[39m\n",
       "                      nothing\n",
       "                  end\n",
       "          end\n",
       "      end\n",
       "  end))"
      ]
     },
     "execution_count": 8,
     "metadata": {},
     "output_type": "execute_result"
    }
   ],
   "source": [
    "ModelingToolkit.generate_function(os)"
   ]
  },
  {
   "cell_type": "code",
   "execution_count": null,
   "metadata": {},
   "outputs": [],
   "source": []
  }
 ],
 "metadata": {
  "kernelspec": {
   "display_name": "Julia 1.7.0",
   "language": "julia",
   "name": "julia-1.7"
  },
  "language_info": {
   "file_extension": ".jl",
   "mimetype": "application/julia",
   "name": "julia",
   "version": "1.7.0"
  }
 },
 "nbformat": 4,
 "nbformat_minor": 4
}
