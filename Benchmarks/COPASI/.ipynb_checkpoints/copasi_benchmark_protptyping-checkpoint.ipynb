{
 "cells": [
  {
   "cell_type": "markdown",
   "metadata": {},
   "source": [
    "# Preparations"
   ]
  },
  {
   "cell_type": "code",
   "execution_count": null,
   "metadata": {},
   "outputs": [],
   "source": [
    "# Fetch packages.\n",
    "from basico import *\n",
    "import json\n",
    "import matplotlib.pyplot as plt\n",
    "import statistics\n",
    "import timeit\n",
    "import numpy"
   ]
  },
  {
   "cell_type": "code",
   "execution_count": null,
   "metadata": {},
   "outputs": [],
   "source": [
    "# Function for plotting benchmarking output.\n",
    "def plot_benchmark(benchmarks,lengs):\n",
    "    medians = list(1000*numpy.array(list(map(statistics.median, benchmarks))))\n",
    "    plt.plot(lengs,medians,linewidth=4)\n",
    "    plt.xscale(\"log\")\n",
    "    plt.yscale(\"log\")\n",
    "    plt.xlim([lengs[0],lengs[-1]])\n",
    "    plt.ylim([0.001,1.2*numpy.max(medians)])    # Choice of ymin does skew how plot appears."
   ]
  },
  {
   "cell_type": "code",
   "execution_count": null,
   "metadata": {},
   "outputs": [],
   "source": [
    "# Benchmarking functions.\n",
    "def make_benchmark(n,leng,method):\n",
    "    def benchmark_func():\n",
    "        run_time_course(duration=leng, stepsize=10, method=method)\n",
    "    return timeit.Timer(benchmark_func).repeat(repeat=n, number=1)\n",
    "\n",
    "# Serialises a benchmarking output using JSON.\n",
    "def serialize(benchmarks,lengs,filename):\n",
    "    with open('../Benchmarking_results/Prototyping/%s.json'%(filename) , \"w\") as write:\n",
    "        json.dump({\"benchmarks\": benchmarks, \"medians\": list(1000*numpy.array(list(map(statistics.median, benchmarks)))), \"lengs\": lengs.tolist()} , write)"
   ]
  },
  {
   "cell_type": "code",
   "execution_count": null,
   "metadata": {},
   "outputs": [],
   "source": [
    "# Benchmarking parameters\n",
    "n = 10"
   ]
  },
  {
   "cell_type": "markdown",
   "metadata": {},
   "source": [
    "# Benchmarks"
   ]
  },
  {
   "cell_type": "markdown",
   "metadata": {},
   "source": [
    "### Multistate"
   ]
  },
  {
   "cell_type": "code",
   "execution_count": null,
   "metadata": {},
   "outputs": [],
   "source": [
    "# Load model.\n",
    "load_model('../Data/multistate.xml');"
   ]
  },
  {
   "cell_type": "code",
   "execution_count": null,
   "metadata": {},
   "outputs": [],
   "source": [
    "# Check ODE simulation output.\n",
    "%time tc_multistate_ODE = run_time_course(duration = 10, method='deterministic')\n",
    "tc_multistate_ODE.loc[:, ['Values[A_P]', 'Values[A_unbound_P]', 'Values[A_bound_P]', 'Values[RLA_P]']].plot()\n",
    "plt.savefig('../Plots/Copasi/multistate_ode_short.png')\n",
    "plt.savefig('../Plots/Copasi/multistate_ode_short.pdf')"
   ]
  },
  {
   "cell_type": "code",
   "execution_count": null,
   "metadata": {},
   "outputs": [],
   "source": [
    "# Check ODE simulation output for maximum length simulation.\n",
    "%time long_tc_multistate_ODE = run_time_course(duration = 100000, method='deterministic')\n",
    "long_tc_multistate_ODE.loc[:, ['Values[A_P]', 'Values[A_unbound_P]', 'Values[A_bound_P]', 'Values[RLA_P]']].plot()\n",
    "plt.savefig('../Plots/Copasi/multistate_ode_long.png')\n",
    "plt.savefig('../Plots/Copasi/multistate_ode_long.pdf')"
   ]
  },
  {
   "cell_type": "code",
   "execution_count": null,
   "metadata": {},
   "outputs": [],
   "source": [
    "# Check Gillespie simulation output.\n",
    "%time tc_multistate_Gillespie = run_time_course(duration = 10, method='directMethod')\n",
    "tc_multistate_Gillespie.loc[:, ['Values[A_P]', 'Values[A_unbound_P]', 'Values[A_bound_P]', 'Values[RLA_P]']].plot()\n",
    "plt.savefig('../Plots/Copasi/multistate_ssa_short.png')\n",
    "plt.savefig('../Plots/Copasi/multistate_ssa_short.pdf')"
   ]
  },
  {
   "cell_type": "code",
   "execution_count": null,
   "metadata": {},
   "outputs": [],
   "source": [
    "# Check Gillespie simulation output for maximum length simulation.\n",
    "%time long_tc_multistate_Gillespie = run_time_course(duration = 100000, stepsize=1, method='directMethod')\n",
    "long_tc_multistate_Gillespie.loc[:, ['Values[A_P]', 'Values[A_unbound_P]', 'Values[A_bound_P]', 'Values[RLA_P]']].plot()\n",
    "plt.savefig('../Plots/Copasi/multistate_ssa_long.png')\n",
    "plt.savefig('../Plots/Copasi/multistate_ssa_long.pdf')"
   ]
  },
  {
   "cell_type": "code",
   "execution_count": null,
   "metadata": {},
   "outputs": [],
   "source": [
    "# Load model (without observables).\n",
    "load_model('../Data/multistate_no_obs.xml');"
   ]
  },
  {
   "cell_type": "code",
   "execution_count": null,
   "metadata": {},
   "outputs": [],
   "source": [
    "# Check ODE simulation time.\n",
    "%time run_time_course(duration = 10, method='deterministic')\n",
    "%time run_time_course(duration = 10, atuomatic=True, method='deterministic') # Supposedly setting \"automatic=True\" can improve/reduce performance in some cases.\n",
    "1;"
   ]
  },
  {
   "cell_type": "code",
   "execution_count": null,
   "metadata": {},
   "outputs": [],
   "source": [
    "# Check Gillespie simulation time.\n",
    "%time run_time_course(duration = 10, method='directMethod')\n",
    "%time run_time_course(duration = 10, atuomatic=True, method='directMethod')\n",
    "1;"
   ]
  },
  {
   "cell_type": "markdown",
   "metadata": {},
   "source": [
    "### Multisite2"
   ]
  },
  {
   "cell_type": "code",
   "execution_count": null,
   "metadata": {},
   "outputs": [],
   "source": [
    "# Load model.\n",
    "load_model('../Data/multisite2.xml');"
   ]
  },
  {
   "cell_type": "code",
   "execution_count": null,
   "metadata": {},
   "outputs": [],
   "source": [
    "# Check ODE simulation output for maximum length simulation.\n",
    "%time tc_multisite2_ODE = run_time_course(duration = 10, method='deterministic')\n",
    "tc_multisite2_ODE.loc[:, ['Values[Rfree]','Values[Lfree]','Values[A1P]']].plot()\n",
    "plt.savefig('../Plots/Copasi/multisite2_ode_short.png')\n",
    "plt.savefig('../Plots/Copasi/multisite2_ode_short.pdf')"
   ]
  },
  {
   "cell_type": "code",
   "execution_count": null,
   "metadata": {},
   "outputs": [],
   "source": [
    "# Check ODE simulation output for maximum length simulation.\n",
    "%time long_tc_multisite2_ODE = run_time_course(duration = 10000, method='deterministic')\n",
    "long_tc_multisite2_ODE.loc[:, ['Values[Rfree]','Values[Lfree]','Values[A1P]']].plot()\n",
    "plt.savefig('../Plots/Copasi/multisite2_ode_long.png')\n",
    "plt.savefig('../Plots/Copasi/multisite2_ode_long.pdf')"
   ]
  },
  {
   "cell_type": "code",
   "execution_count": null,
   "metadata": {},
   "outputs": [],
   "source": [
    "# Check Gillespie simulation output.\n",
    "%time tc_multisite2_Gillespie = run_time_course(duration = 10, method='directMethod')\n",
    "tc_multisite2_Gillespie.loc[:, ['Values[Rfree]','Values[Lfree]','Values[A1P]']].plot()\n",
    "plt.savefig('../Plots/Copasi/multisite2_ssa_short.png')\n",
    "plt.savefig('../Plots/Copasi/multisite2_ssa_short.pdf')"
   ]
  },
  {
   "cell_type": "code",
   "execution_count": null,
   "metadata": {},
   "outputs": [],
   "source": [
    "# Check Gillespie simulation output for maximum length simulation.\n",
    "%time long_tc_multisite2_Gillespie = run_time_course(duration = 10000, stepsize=1, method='directMethod')\n",
    "long_tc_multisite2_Gillespie.loc[:, ['Values[Rfree]','Values[Lfree]','Values[A1P]']].plot()\n",
    "plt.savefig('../Plots/Copasi/multisite2_ssa_long.png')\n",
    "plt.savefig('../Plots/Copasi/multisite2_ssa_long.pdf')"
   ]
  },
  {
   "cell_type": "code",
   "execution_count": null,
   "metadata": {},
   "outputs": [],
   "source": [
    "# Load model (without observables).\n",
    "load_model('../Data/multisite2_no_obs.xml');"
   ]
  },
  {
   "cell_type": "code",
   "execution_count": null,
   "metadata": {},
   "outputs": [],
   "source": [
    "# Check ODE simulation time.\n",
    "%time run_time_course(duration = 10, method='deterministic')\n",
    "%time run_time_course(duration = 10, method='deterministic', automatic=True)\n",
    "1;"
   ]
  },
  {
   "cell_type": "code",
   "execution_count": null,
   "metadata": {},
   "outputs": [],
   "source": [
    "# Check Gillespie simulation time.\n",
    "%time run_time_course(duration = 10, method='directMethod')\n",
    "%time run_time_course(duration = 10, method='directMethod', automatic=True)\n",
    "1;"
   ]
  },
  {
   "cell_type": "markdown",
   "metadata": {},
   "source": [
    "### Egfr_net"
   ]
  },
  {
   "cell_type": "code",
   "execution_count": null,
   "metadata": {},
   "outputs": [],
   "source": [
    "# Load model.\n",
    "load_model('../Data/egfr_net.xml');"
   ]
  },
  {
   "cell_type": "code",
   "execution_count": null,
   "metadata": {},
   "outputs": [],
   "source": [
    "# Check ODE simulation output.\n",
    "%time tc_egfr_net_ODE = run_time_course(duration = 10, method='deterministic')\n",
    "tc_egfr_net_ODE.loc[:, ['Values[Dimers]','Values[Sos_act]','Values[Y1068]','Values[Y1148]','Values[Shc_Grb]','Values[Shc_Grb_Sos]','Values[R_Grb2]','Values[R_Shc]','Values[R_ShcP]','Values[ShcP]','Values[R_G_S]','Values[R_S_G_S]','Values[Efgr_tot]']].plot()\n",
    "plt.savefig('../Plots/Copasi/egfr_net_ode_short.png')\n",
    "plt.savefig('../Plots/Copasi/egfr_net_ode_short.pdf')"
   ]
  },
  {
   "cell_type": "code",
   "execution_count": null,
   "metadata": {},
   "outputs": [],
   "source": [
    "# Check ODE simulation output for maximum length simulation.\n",
    "%time long_tc_egfr_net_ODE = run_time_course(duration = 1000, method='deterministic')\n",
    "long_tc_egfr_net_ODE.loc[:, ['Values[Dimers]','Values[Sos_act]','Values[Y1068]','Values[Y1148]','Values[Shc_Grb]','Values[Shc_Grb_Sos]','Values[R_Grb2]','Values[R_Shc]','Values[R_ShcP]','Values[ShcP]','Values[R_G_S]','Values[R_S_G_S]','Values[Efgr_tot]']].plot()\n",
    "plt.savefig('../Plots/Copasi/egfr_net_ode_long.png')\n",
    "plt.savefig('../Plots/Copasi/egfr_net_ode_long.pdf')"
   ]
  },
  {
   "cell_type": "code",
   "execution_count": null,
   "metadata": {},
   "outputs": [],
   "source": [
    "# Check Gillespie simulation output.\n",
    "%time tc_egfr_net_Gillespie = run_time_course(duration = 10, method='directMethod')\n",
    "tc_egfr_net_Gillespie.loc[:, ['Values[Dimers]','Values[Sos_act]','Values[Y1068]','Values[Y1148]','Values[Shc_Grb]','Values[Shc_Grb_Sos]','Values[R_Grb2]','Values[R_Shc]','Values[R_ShcP]','Values[ShcP]','Values[R_G_S]','Values[R_S_G_S]','Values[Efgr_tot]']].plot()\n",
    "plt.savefig('../Plots/Copasi/egfr_net_ssa_short.png')\n",
    "plt.savefig('../Plots/Copasi/egfr_net_ssa_short.pdf')"
   ]
  },
  {
   "cell_type": "code",
   "execution_count": null,
   "metadata": {},
   "outputs": [],
   "source": [
    "# Check Gillespie simulation output for maximum length simulation.\n",
    "%time long_tc_egfr_net_Gillespie = run_time_course(duration = 1000, stepsize=1, method='directMethod')\n",
    "long_tc_egfr_net_Gillespie.loc[:, ['Values[Dimers]','Values[Sos_act]','Values[Y1068]','Values[Y1148]','Values[Shc_Grb]','Values[Shc_Grb_Sos]','Values[R_Grb2]','Values[R_Shc]','Values[R_ShcP]','Values[ShcP]','Values[R_G_S]','Values[R_S_G_S]','Values[Efgr_tot]']].plot()\n",
    "plt.savefig('../Plots/Copasi/egfr_net_ssa_long.png')\n",
    "plt.savefig('../Plots/Copasi/egfr_net_ssa_long.pdf')"
   ]
  },
  {
   "cell_type": "code",
   "execution_count": null,
   "metadata": {},
   "outputs": [],
   "source": [
    "# Load model (without observables).\n",
    "load_model('../Data/egfr_net_no_obs.xml');"
   ]
  },
  {
   "cell_type": "code",
   "execution_count": null,
   "metadata": {},
   "outputs": [],
   "source": [
    "# Check ODE simulation time.\n",
    "%time run_time_course(duration = 10, method='deterministic')\n",
    "%time run_time_course(duration = 10, automatic=True, method='deterministic')\n",
    "1;"
   ]
  },
  {
   "cell_type": "code",
   "execution_count": null,
   "metadata": {},
   "outputs": [],
   "source": [
    "# Check Gillespie simulation time.\n",
    "%time run_time_course(duration = 10, method='directMethod')\n",
    "%time run_time_course(duration = 10, automatic=True, method='directMethod')\n",
    "1;"
   ]
  },
  {
   "cell_type": "markdown",
   "metadata": {},
   "source": [
    "### BCR"
   ]
  },
  {
   "cell_type": "code",
   "execution_count": null,
   "metadata": {},
   "outputs": [],
   "source": [
    "# Load model.\n",
    "load_model('../Data/BCR.xml');"
   ]
  },
  {
   "cell_type": "code",
   "execution_count": null,
   "metadata": {},
   "outputs": [],
   "source": [
    "# Check ODE simulation output.\n",
    "%time tc_BCR_ODE = run_time_course(duration = 10, method='deterministic')\n",
    "tc_BCR_ODE.loc[:, ['Values[Activated_Syk]','Values[Ig_alpha_P]','Values[Ig_alpha_PP]','Values[Ig_beta_PP]','Values[Activated_Lyn]','Values[Autoinhibited_Lyn]','Values[Activated_Fyn]','Values[Autoinhibited_Fyn]','Values[PAG1_Csk]']].plot()\n",
    "plt.savefig('../Plots/Copasi/BCR_ode_short.png')\n",
    "plt.savefig('../Plots/Copasi/BCR_ode_short.pdf')"
   ]
  },
  {
   "cell_type": "code",
   "execution_count": null,
   "metadata": {},
   "outputs": [],
   "source": [
    "# Check ODE simulation output for maximum length simulation.\n",
    "%time long_tc_BCR_ODE = run_time_course(duration = 1000, method='deterministic')\n",
    "long_tc_BCR_ODE.loc[:, ['Values[Activated_Syk]','Values[Ig_alpha_P]','Values[Ig_alpha_PP]','Values[Ig_beta_PP]','Values[Activated_Lyn]','Values[Autoinhibited_Lyn]','Values[Activated_Fyn]','Values[Autoinhibited_Fyn]','Values[PAG1_Csk]']].plot()\n",
    "plt.savefig('../Plots/Copasi/BCR_ode_long.png')\n",
    "plt.savefig('../Plots/Copasi/BCR_ode_long.pdf')"
   ]
  },
  {
   "cell_type": "code",
   "execution_count": null,
   "metadata": {},
   "outputs": [],
   "source": [
    "### Gillespie simulations not performed using Copasi for the BCR model (too long simulation times required). ###\n",
    "# Check Gillespie simulation output.\n",
    "# %time tc_BCR_Gillespie = run_time_course(duration = 10, method='directMethod')\n",
    "# tc_BCR_Gillespie.loc[:, ['Values[Activated_Syk]','Values[lg_alpha_P]','Values[lg_alpha_PP]','Values[lg_beta_PP]','Values[Activated_Lyn]','Values[Autoinhibited_Lyn]','Values[Activated_Fyn]','Values[Autoinhibited_Fyn]','Values[PAG1_Csk]']].plot()"
   ]
  },
  {
   "cell_type": "code",
   "execution_count": null,
   "metadata": {},
   "outputs": [],
   "source": [
    "# Load model (without observables).\n",
    "load_model('../Data/BCR_no_obs.xml');"
   ]
  },
  {
   "cell_type": "code",
   "execution_count": null,
   "metadata": {},
   "outputs": [],
   "source": [
    "# Check ODE simulation time.\n",
    "%time run_time_course(duration = 10, method='deterministic')\n",
    "%time run_time_course(duration = 10, automatic=True, method='deterministic')\n",
    "1;"
   ]
  },
  {
   "cell_type": "code",
   "execution_count": null,
   "metadata": {},
   "outputs": [],
   "source": [
    "# Check Gillespie simulation time.\n",
    "# %time run_time_course(duration = 10, method='directMethod')\n",
    "# %time run_time_course(duration = 10, automatic=True, method='directMethod')\n",
    "# 1;"
   ]
  },
  {
   "cell_type": "markdown",
   "metadata": {},
   "source": [
    "### Fceri_gamma2"
   ]
  },
  {
   "cell_type": "code",
   "execution_count": null,
   "metadata": {},
   "outputs": [],
   "source": [
    "# Load model.\n",
    "load_model('../Data/fceri_gamma2.xml');"
   ]
  },
  {
   "cell_type": "code",
   "execution_count": null,
   "metadata": {},
   "outputs": [],
   "source": [
    "# Check ODE simulation output.\n",
    "%time tc_fceri_gamma2_ODE = run_time_course(duration = 10, method='deterministic')\n",
    "tc_fceri_gamma2_ODE.loc[:, ['Values[Lyn_Free]','Values[RecMon]','Values[RecPbeta]','Values[RecPgamma]','Values[RecSyk]','Values[RecSykP5]']].plot()\n",
    "plt.savefig('../Plots/Copasi/fceri_gamma2_ode_short.png')\n",
    "plt.savefig('../Plots/Copasi/fceri_gamma2_ode_short.pdf')"
   ]
  },
  {
   "cell_type": "code",
   "execution_count": null,
   "metadata": {},
   "outputs": [],
   "source": [
    "# Check ODE simulation output for maximum length simulation.\n",
    "%time long_tc_fceri_gamma2_ODE = run_time_course(duration = 1000, method='deterministic')\n",
    "long_tc_fceri_gamma2_ODE.loc[:, ['Values[Lyn_Free]','Values[RecMon]','Values[RecPbeta]','Values[RecPgamma]','Values[RecSyk]','Values[RecSykP5]']].plot()\n",
    "plt.savefig('../Plots/Copasi/fceri_gamma2_ode_long.png')\n",
    "plt.savefig('../Plots/Copasi/fceri_gamma2_ode_long.pdf')"
   ]
  },
  {
   "cell_type": "code",
   "execution_count": null,
   "metadata": {},
   "outputs": [],
   "source": [
    "# Check Gillespie simulation output.\n",
    "%time tc_fceri_gamma2_Gillespie = run_time_course(duration = 10, method='directMethod')\n",
    "tc_fceri_gamma2_Gillespie.loc[:, ['Values[Lyn_Free]','Values[RecMon]','Values[RecPbeta]','Values[RecPgamma]','Values[RecSyk]','Values[RecSykP5]']].plot()\n",
    "plt.savefig('../Plots/Copasi/fceri_gamma2_ssa_short.png')\n",
    "plt.savefig('../Plots/Copasi/fceri_gamma2_ssa_short.pdf')"
   ]
  },
  {
   "cell_type": "code",
   "execution_count": null,
   "metadata": {},
   "outputs": [],
   "source": [
    "# Check Gillespie simulation output for maximum length simulation.\n",
    "%time long_tc_fceri_gamma2_Gillespie = run_time_course(duration = 1000, stepsize=1, method='directMethod')\n",
    "long_tc_fceri_gamma2_Gillespie.loc[:, ['Values[Lyn_Free]','Values[RecMon]','Values[RecPbeta]','Values[RecPgamma]','Values[RecSyk]','Values[RecSykP5]']].plot()\n",
    "plt.savefig('../Plots/Copasi/fceri_gamma2_ssa_long.png')\n",
    "plt.savefig('../Plots/Copasi/fceri_gamma2_ssa_long.pdf')"
   ]
  },
  {
   "cell_type": "code",
   "execution_count": null,
   "metadata": {},
   "outputs": [],
   "source": [
    "# Load model (without observables).\n",
    "load_model('../Data/fceri_gamma2_no_obs.xml');"
   ]
  },
  {
   "cell_type": "code",
   "execution_count": null,
   "metadata": {},
   "outputs": [],
   "source": [
    "# Check ODE simulation time.\n",
    "%time run_time_course(duration = 10, method='deterministic')\n",
    "%time run_time_course(duration = 10, automatic=True, method='deterministic')\n",
    "1;"
   ]
  },
  {
   "cell_type": "code",
   "execution_count": null,
   "metadata": {},
   "outputs": [],
   "source": [
    "# Check Gillespie simulation time.\n",
    "%time run_time_course(duration = 10, method='directMethod')\n",
    "%time run_time_course(duration = 10, automatic=True, method='directMethod')\n",
    "1;"
   ]
  },
  {
   "cell_type": "code",
   "execution_count": null,
   "metadata": {},
   "outputs": [],
   "source": []
  }
 ],
 "metadata": {
  "kernelspec": {
   "display_name": "Python 3",
   "language": "python",
   "name": "python3"
  },
  "language_info": {
   "codemirror_mode": {
    "name": "ipython",
    "version": 3
   },
   "file_extension": ".py",
   "mimetype": "text/x-python",
   "name": "python",
   "nbconvert_exporter": "python",
   "pygments_lexer": "ipython3",
   "version": "3.7.4"
  }
 },
 "nbformat": 4,
 "nbformat_minor": 5
}
